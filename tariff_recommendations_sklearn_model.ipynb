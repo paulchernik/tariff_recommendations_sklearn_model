{
 "cells": [
  {
   "cell_type": "markdown",
   "metadata": {},
   "source": [
    "# Рекомендация тарифов"
   ]
  },
  {
   "cell_type": "markdown",
   "metadata": {},
   "source": [
    "В распоряжении данные о поведении клиентов мобильного оператора, которые уже перешли на тариф. Нужно построить модель для задачи классификации, которая выберет подходящий тариф.\n",
    "\n",
    "Необходимо построить модель с максимально большим значением *accuracy*. Нужно довести долю правильных ответов по крайней мере до 0.75."
   ]
  },
  {
   "cell_type": "code",
   "execution_count": 1,
   "metadata": {},
   "outputs": [],
   "source": [
    "import pandas as pd\n",
    "import numpy as np\n",
    "from sklearn.model_selection import train_test_split\n",
    "from sklearn.tree import DecisionTreeClassifier\n",
    "from sklearn.ensemble import RandomForestClassifier\n",
    "from sklearn.linear_model import LogisticRegression\n",
    "from sklearn.metrics import accuracy_score"
   ]
  },
  {
   "cell_type": "code",
   "execution_count": 2,
   "metadata": {},
   "outputs": [],
   "source": [
    "df = pd.read_csv('/datasets/users_behavior.csv')"
   ]
  },
  {
   "cell_type": "markdown",
   "metadata": {},
   "source": [
    "### Описание данных\n",
    "\n",
    "- `сalls` — количество звонков,\n",
    "- `minutes` — суммарная длительность звонков в минутах,\n",
    "- `messages` — количество sms-сообщений,\n",
    "- `mb_used` — израсходованный интернет-трафик в Мб,\n",
    "- `is_ultra` — каким тарифом пользовался в течение месяца («Ультра» — 1, «Смарт» — 0)."
   ]
  },
  {
   "cell_type": "code",
   "execution_count": 3,
   "metadata": {},
   "outputs": [
    {
     "data": {
      "text/html": [
       "<div>\n",
       "<style scoped>\n",
       "    .dataframe tbody tr th:only-of-type {\n",
       "        vertical-align: middle;\n",
       "    }\n",
       "\n",
       "    .dataframe tbody tr th {\n",
       "        vertical-align: top;\n",
       "    }\n",
       "\n",
       "    .dataframe thead th {\n",
       "        text-align: right;\n",
       "    }\n",
       "</style>\n",
       "<table border=\"1\" class=\"dataframe\">\n",
       "  <thead>\n",
       "    <tr style=\"text-align: right;\">\n",
       "      <th></th>\n",
       "      <th>calls</th>\n",
       "      <th>minutes</th>\n",
       "      <th>messages</th>\n",
       "      <th>mb_used</th>\n",
       "      <th>is_ultra</th>\n",
       "    </tr>\n",
       "  </thead>\n",
       "  <tbody>\n",
       "    <tr>\n",
       "      <th>0</th>\n",
       "      <td>40.0</td>\n",
       "      <td>311.90</td>\n",
       "      <td>83.0</td>\n",
       "      <td>19915.42</td>\n",
       "      <td>0</td>\n",
       "    </tr>\n",
       "    <tr>\n",
       "      <th>1</th>\n",
       "      <td>85.0</td>\n",
       "      <td>516.75</td>\n",
       "      <td>56.0</td>\n",
       "      <td>22696.96</td>\n",
       "      <td>0</td>\n",
       "    </tr>\n",
       "    <tr>\n",
       "      <th>2</th>\n",
       "      <td>77.0</td>\n",
       "      <td>467.66</td>\n",
       "      <td>86.0</td>\n",
       "      <td>21060.45</td>\n",
       "      <td>0</td>\n",
       "    </tr>\n",
       "    <tr>\n",
       "      <th>3</th>\n",
       "      <td>106.0</td>\n",
       "      <td>745.53</td>\n",
       "      <td>81.0</td>\n",
       "      <td>8437.39</td>\n",
       "      <td>1</td>\n",
       "    </tr>\n",
       "    <tr>\n",
       "      <th>4</th>\n",
       "      <td>66.0</td>\n",
       "      <td>418.74</td>\n",
       "      <td>1.0</td>\n",
       "      <td>14502.75</td>\n",
       "      <td>0</td>\n",
       "    </tr>\n",
       "    <tr>\n",
       "      <th>5</th>\n",
       "      <td>58.0</td>\n",
       "      <td>344.56</td>\n",
       "      <td>21.0</td>\n",
       "      <td>15823.37</td>\n",
       "      <td>0</td>\n",
       "    </tr>\n",
       "    <tr>\n",
       "      <th>6</th>\n",
       "      <td>57.0</td>\n",
       "      <td>431.64</td>\n",
       "      <td>20.0</td>\n",
       "      <td>3738.90</td>\n",
       "      <td>1</td>\n",
       "    </tr>\n",
       "    <tr>\n",
       "      <th>7</th>\n",
       "      <td>15.0</td>\n",
       "      <td>132.40</td>\n",
       "      <td>6.0</td>\n",
       "      <td>21911.60</td>\n",
       "      <td>0</td>\n",
       "    </tr>\n",
       "    <tr>\n",
       "      <th>8</th>\n",
       "      <td>7.0</td>\n",
       "      <td>43.39</td>\n",
       "      <td>3.0</td>\n",
       "      <td>2538.67</td>\n",
       "      <td>1</td>\n",
       "    </tr>\n",
       "    <tr>\n",
       "      <th>9</th>\n",
       "      <td>90.0</td>\n",
       "      <td>665.41</td>\n",
       "      <td>38.0</td>\n",
       "      <td>17358.61</td>\n",
       "      <td>0</td>\n",
       "    </tr>\n",
       "    <tr>\n",
       "      <th>10</th>\n",
       "      <td>82.0</td>\n",
       "      <td>560.51</td>\n",
       "      <td>20.0</td>\n",
       "      <td>9619.53</td>\n",
       "      <td>1</td>\n",
       "    </tr>\n",
       "    <tr>\n",
       "      <th>11</th>\n",
       "      <td>45.0</td>\n",
       "      <td>344.32</td>\n",
       "      <td>13.0</td>\n",
       "      <td>19898.81</td>\n",
       "      <td>0</td>\n",
       "    </tr>\n",
       "    <tr>\n",
       "      <th>12</th>\n",
       "      <td>51.0</td>\n",
       "      <td>437.13</td>\n",
       "      <td>61.0</td>\n",
       "      <td>21523.58</td>\n",
       "      <td>0</td>\n",
       "    </tr>\n",
       "    <tr>\n",
       "      <th>13</th>\n",
       "      <td>56.0</td>\n",
       "      <td>433.07</td>\n",
       "      <td>16.0</td>\n",
       "      <td>16702.36</td>\n",
       "      <td>0</td>\n",
       "    </tr>\n",
       "    <tr>\n",
       "      <th>14</th>\n",
       "      <td>108.0</td>\n",
       "      <td>587.90</td>\n",
       "      <td>0.0</td>\n",
       "      <td>14406.50</td>\n",
       "      <td>1</td>\n",
       "    </tr>\n",
       "    <tr>\n",
       "      <th>15</th>\n",
       "      <td>6.0</td>\n",
       "      <td>22.13</td>\n",
       "      <td>0.0</td>\n",
       "      <td>2710.09</td>\n",
       "      <td>0</td>\n",
       "    </tr>\n",
       "    <tr>\n",
       "      <th>16</th>\n",
       "      <td>2.0</td>\n",
       "      <td>18.73</td>\n",
       "      <td>0.0</td>\n",
       "      <td>588.89</td>\n",
       "      <td>0</td>\n",
       "    </tr>\n",
       "    <tr>\n",
       "      <th>17</th>\n",
       "      <td>26.0</td>\n",
       "      <td>163.62</td>\n",
       "      <td>4.0</td>\n",
       "      <td>16870.34</td>\n",
       "      <td>0</td>\n",
       "    </tr>\n",
       "    <tr>\n",
       "      <th>18</th>\n",
       "      <td>79.0</td>\n",
       "      <td>532.62</td>\n",
       "      <td>90.0</td>\n",
       "      <td>19908.31</td>\n",
       "      <td>0</td>\n",
       "    </tr>\n",
       "    <tr>\n",
       "      <th>19</th>\n",
       "      <td>49.0</td>\n",
       "      <td>341.67</td>\n",
       "      <td>81.0</td>\n",
       "      <td>11770.28</td>\n",
       "      <td>1</td>\n",
       "    </tr>\n",
       "  </tbody>\n",
       "</table>\n",
       "</div>"
      ],
      "text/plain": [
       "    calls  minutes  messages   mb_used  is_ultra\n",
       "0    40.0   311.90      83.0  19915.42         0\n",
       "1    85.0   516.75      56.0  22696.96         0\n",
       "2    77.0   467.66      86.0  21060.45         0\n",
       "3   106.0   745.53      81.0   8437.39         1\n",
       "4    66.0   418.74       1.0  14502.75         0\n",
       "5    58.0   344.56      21.0  15823.37         0\n",
       "6    57.0   431.64      20.0   3738.90         1\n",
       "7    15.0   132.40       6.0  21911.60         0\n",
       "8     7.0    43.39       3.0   2538.67         1\n",
       "9    90.0   665.41      38.0  17358.61         0\n",
       "10   82.0   560.51      20.0   9619.53         1\n",
       "11   45.0   344.32      13.0  19898.81         0\n",
       "12   51.0   437.13      61.0  21523.58         0\n",
       "13   56.0   433.07      16.0  16702.36         0\n",
       "14  108.0   587.90       0.0  14406.50         1\n",
       "15    6.0    22.13       0.0   2710.09         0\n",
       "16    2.0    18.73       0.0    588.89         0\n",
       "17   26.0   163.62       4.0  16870.34         0\n",
       "18   79.0   532.62      90.0  19908.31         0\n",
       "19   49.0   341.67      81.0  11770.28         1"
      ]
     },
     "execution_count": 3,
     "metadata": {},
     "output_type": "execute_result"
    }
   ],
   "source": [
    "df.head(20)"
   ]
  },
  {
   "cell_type": "code",
   "execution_count": 4,
   "metadata": {},
   "outputs": [
    {
     "name": "stdout",
     "output_type": "stream",
     "text": [
      "<class 'pandas.core.frame.DataFrame'>\n",
      "RangeIndex: 3214 entries, 0 to 3213\n",
      "Data columns (total 5 columns):\n",
      " #   Column    Non-Null Count  Dtype  \n",
      "---  ------    --------------  -----  \n",
      " 0   calls     3214 non-null   float64\n",
      " 1   minutes   3214 non-null   float64\n",
      " 2   messages  3214 non-null   float64\n",
      " 3   mb_used   3214 non-null   float64\n",
      " 4   is_ultra  3214 non-null   int64  \n",
      "dtypes: float64(4), int64(1)\n",
      "memory usage: 125.7 KB\n"
     ]
    }
   ],
   "source": [
    "df.info()"
   ]
  },
  {
   "cell_type": "code",
   "execution_count": 5,
   "metadata": {
    "scrolled": false
   },
   "outputs": [
    {
     "data": {
      "image/png": "[encoded data removed]",
      "text/plain": [
       "<Figure size 720x1080 with 6 Axes>"
      ]
     },
     "metadata": {
      "needs_background": "light"
     },
     "output_type": "display_data"
    }
   ],
   "source": [
    "df.hist(figsize=(10, 15));"
   ]
  },
  {
   "cell_type": "markdown",
   "metadata": {},
   "source": [
    "Какие-то аномалии и выбросы не замечены."
   ]
  },
  {
   "cell_type": "code",
   "execution_count": 6,
   "metadata": {},
   "outputs": [
    {
     "data": {
      "text/plain": [
       "calls       0\n",
       "minutes     0\n",
       "messages    0\n",
       "mb_used     0\n",
       "is_ultra    0\n",
       "dtype: int64"
      ]
     },
     "execution_count": 6,
     "metadata": {},
     "output_type": "execute_result"
    }
   ],
   "source": [
    "# Подсчёт пустых значений\n",
    "\n",
    "df.isnull().sum()"
   ]
  },
  {
   "cell_type": "code",
   "execution_count": 7,
   "metadata": {},
   "outputs": [
    {
     "data": {
      "text/plain": [
       "0"
      ]
     },
     "execution_count": 7,
     "metadata": {},
     "output_type": "execute_result"
    }
   ],
   "source": [
    "# Вывод количества строк-дубликатов в данных\n",
    "\n",
    "df.duplicated().sum()"
   ]
  },
  {
   "cell_type": "code",
   "execution_count": 8,
   "metadata": {},
   "outputs": [],
   "source": [
    "# Создадим переменные с признаками и целевым признаком\n",
    "\n",
    "features = df.drop(['is_ultra'], axis=1)\n",
    "target = df['is_ultra']"
   ]
  },
  {
   "cell_type": "code",
   "execution_count": 9,
   "metadata": {},
   "outputs": [],
   "source": [
    "# Разделим выборку в соотношении 3:1:1 на обучающуюю и объединенную валидационную и тестовую\n",
    "\n",
    "features_train, features_sample, target_train, target_sample = train_test_split(features, target,\n",
    "                                                                              test_size=0.4, random_state=12345)"
   ]
  },
  {
   "cell_type": "code",
   "execution_count": 10,
   "metadata": {},
   "outputs": [],
   "source": [
    "# Разделим временную выборку на валидационную и тестовую\n",
    "\n",
    "features_valid, features_test, target_valid, target_test = train_test_split(features_sample, target_sample,\n",
    "                                                                              test_size=0.5, random_state=12345)"
   ]
  },
  {
   "cell_type": "code",
   "execution_count": 11,
   "metadata": {
    "scrolled": false
   },
   "outputs": [
    {
     "name": "stdout",
     "output_type": "stream",
     "text": [
      "Размер генеральной совокупности: 3214\n",
      "Размер обучающей выборки: 1928\n",
      "Размер валидационной выборки: 643\n",
      "Размер тестовой выборки: 643\n"
     ]
    }
   ],
   "source": [
    "print(\"Размер генеральной совокупности:\", df.shape[0])\n",
    "print(\"Размер обучающей выборки:\", features_train.shape[0])\n",
    "print(\"Размер валидационной выборки:\", features_valid.shape[0])\n",
    "print(\"Размер тестовой выборки:\", features_test.shape[0])"
   ]
  },
  {
   "cell_type": "markdown",
   "metadata": {},
   "source": [
    "Мы разделили данные на обучающую, валидационную и тестовую выборки в соотношении 3:1:1, что позволит нам оценить качество модели на разных этапах и избежать переобучения. Обучающая выборка содержит 1928 наблюдений, валидационная и тестовая — по 643."
   ]
  },
  {
   "cell_type": "markdown",
   "metadata": {},
   "source": [
    "Так как данные категориальные используем модели **DecisionTreeClassifier**, **RandomForestClassifier**, и **LogisticRegression.** А также метрику **accuracy score** для определения доли предсказаний."
   ]
  },
  {
   "cell_type": "code",
   "execution_count": 12,
   "metadata": {},
   "outputs": [
    {
     "name": "stdout",
     "output_type": "stream",
     "text": [
      "Accuracy модели DecisionTreeClassifier на валидационной выборке: 0.7853810264385692\n",
      "Глубина дерева: 3\n"
     ]
    }
   ],
   "source": [
    "best_result_dt = 0\n",
    "best_depth_dt = 0\n",
    "\n",
    "for depth in range(1, 6):\n",
    "    model_dt = DecisionTreeClassifier(random_state=12345, max_depth=depth)\n",
    "    model_dt.fit(features_train, target_train)\n",
    "    predictions_valid_dt = model_dt.predict(features_valid)\n",
    "    accuracy_dt = accuracy_score(target_valid, predictions_valid_dt)\n",
    "    \n",
    "    if accuracy_dt > best_result_dt:\n",
    "        best_result_dt = accuracy_dt\n",
    "        best_depth_dt = depth\n",
    "        \n",
    "print(\"Accuracy модели DecisionTreeClassifier на валидационной выборке:\", best_result_dt)\n",
    "print(\"Глубина дерева:\", best_depth_dt)"
   ]
  },
  {
   "cell_type": "code",
   "execution_count": 13,
   "metadata": {},
   "outputs": [
    {
     "name": "stdout",
     "output_type": "stream",
     "text": [
      "Accuracy модели DecisionTreeClassifier на валидационной выборке: 0.7947122861586314\n",
      "Количество деревьев: 100\n",
      "Максимальная глубина: 15\n"
     ]
    }
   ],
   "source": [
    "best_result_rf = 0\n",
    "best_depth_rf = 0\n",
    "best_est_rf = 0\n",
    "\n",
    "for est in [10, 50, 100]:\n",
    "    for depth_rf in range(5, 16, 5):\n",
    "        model_rf = RandomForestClassifier(random_state=12345, n_estimators=est, max_depth=depth_rf)\n",
    "        model_rf.fit(features_train, target_train)\n",
    "        predictions_valid_rf = model_rf.predict(features_valid)\n",
    "        accuracy_rf = accuracy_score(target_valid, predictions_valid_rf)\n",
    "\n",
    "        if accuracy_rf > best_result_rf:\n",
    "            best_result_rf = accuracy_rf\n",
    "            best_depth_rf = depth_rf\n",
    "            best_est_rf = est\n",
    "        \n",
    "print(\"Accuracy модели DecisionTreeClassifier на валидационной выборке:\", best_result_rf)\n",
    "print(\"Количество деревьев:\", best_est_rf)\n",
    "print(\"Максимальная глубина:\", depth_rf)"
   ]
  },
  {
   "cell_type": "code",
   "execution_count": 14,
   "metadata": {},
   "outputs": [
    {
     "name": "stdout",
     "output_type": "stream",
     "text": [
      "Accuracy модели LogisticRegression на валидационной выборке: 0.7107309486780715\n"
     ]
    }
   ],
   "source": [
    "model_lr = LogisticRegression(random_state=12345)\n",
    "model_lr.fit(features_train, target_train)\n",
    "predictions_valid_lr = model_lr.predict(features_valid)\n",
    "\n",
    "accuracy_lr = accuracy_score(target_valid, predictions_valid_lr)\n",
    "\n",
    "print(\"Accuracy модели LogisticRegression на валидационной выборке:\", accuracy_lr)"
   ]
  },
  {
   "cell_type": "markdown",
   "metadata": {},
   "source": [
    "Результаты показали, что RandomForestClassifier с 100 деревьями и максимальной глубиной 15 достиг наилучшей точности на валидационной выборке среди протестированных моделей.\n",
    "DecisionTreeClassifier показал чуть меньшую точность с глубиной дерева 3.\n",
    "LogisticRegression показывает наименьшую точность."
   ]
  },
  {
   "cell_type": "code",
   "execution_count": 15,
   "metadata": {},
   "outputs": [],
   "source": [
    "# Установим лучшую модель\n",
    "\n",
    "best_model = RandomForestClassifier(random_state=12345, n_estimators=100, max_depth=15)"
   ]
  },
  {
   "cell_type": "markdown",
   "metadata": {},
   "source": [
    "## Провекрка модели на тестовой выборке"
   ]
  },
  {
   "cell_type": "code",
   "execution_count": 16,
   "metadata": {},
   "outputs": [
    {
     "data": {
      "text/plain": [
       "RandomForestClassifier(max_depth=15, random_state=12345)"
      ]
     },
     "execution_count": 16,
     "metadata": {},
     "output_type": "execute_result"
    }
   ],
   "source": [
    "# Обучим модель на обучающей выборке\n",
    "\n",
    "best_model.fit(features_train, target_train)"
   ]
  },
  {
   "cell_type": "code",
   "execution_count": 17,
   "metadata": {},
   "outputs": [],
   "source": [
    "# Получим предсказания на тестовой выборке\n",
    "\n",
    "predictions_test = best_model.predict(features_test)"
   ]
  },
  {
   "cell_type": "code",
   "execution_count": 18,
   "metadata": {},
   "outputs": [],
   "source": [
    "# Посчитаем accuracy на тестовой выборке\n",
    "\n",
    "accuracy = accuracy_score(target_test, predictions_test)"
   ]
  },
  {
   "cell_type": "code",
   "execution_count": 19,
   "metadata": {},
   "outputs": [
    {
     "name": "stdout",
     "output_type": "stream",
     "text": [
      "Accuracy тестовой выборки: 0.7962674961119751\n"
     ]
    }
   ],
   "source": [
    "print(\"Accuracy тестовой выборки:\", accuracy)"
   ]
  },
  {
   "cell_type": "markdown",
   "metadata": {},
   "source": [
    "## Проверка модели на адекватность"
   ]
  },
  {
   "cell_type": "code",
   "execution_count": 20,
   "metadata": {},
   "outputs": [],
   "source": [
    "# Посчитаем количество клиентов с тарифом смарт и общее количество клиентов\n",
    "\n",
    "smart_count = df[df['is_ultra'] == 0]['is_ultra'].count()\n",
    "total_count = df['is_ultra'].count()"
   ]
  },
  {
   "cell_type": "code",
   "execution_count": 21,
   "metadata": {},
   "outputs": [],
   "source": [
    "# Посчитаем Accuracy для проверочной модели\n",
    "\n",
    "check_model = smart_count / total_count"
   ]
  },
  {
   "cell_type": "code",
   "execution_count": 22,
   "metadata": {},
   "outputs": [
    {
     "name": "stdout",
     "output_type": "stream",
     "text": [
      "Accuracy проверочной модели (предсказывает только 'Смарт'): 0.693528313627878\n",
      "Accuracy модели DecisionTreeClassifier на валидационной выборке: 0.7853810264385692\n",
      "Accuracy модели RandomForestClassifier на валидационной выборке: 0.7947122861586314\n",
      "Accuracy модели LogisticRegression на валидационной выборке: 0.7107309486780715\n",
      "Accuracy лучшей модели (RandomForestClassifier) на тестовой выборке: 0.7962674961119751\n"
     ]
    }
   ],
   "source": [
    "print(\"Accuracy проверочной модели (предсказывает только 'Смарт'):\", check_model)\n",
    "\n",
    "print(\"Accuracy модели DecisionTreeClassifier на валидационной выборке:\", best_result_dt)\n",
    "print(\"Accuracy модели RandomForestClassifier на валидационной выборке:\", best_result_rf)\n",
    "print(\"Accuracy модели LogisticRegression на валидационной выборке:\", accuracy_lr)\n",
    "print(\"Accuracy лучшей модели (RandomForestClassifier) на тестовой выборке:\", accuracy)"
   ]
  },
  {
   "cell_type": "markdown",
   "metadata": {},
   "source": [
    "Accuracy обученных моделей выше чем у проверочной, это говорит о том, что модель способна различать клиентов, которым подходит один из двух тарифов."
   ]
  },
  {
   "cell_type": "markdown",
   "metadata": {},
   "source": [
    "## Общий вывод\n",
    "\n",
    "В ходе работы была построена система классификации для выбора подходящего тарифа (\"Смарт\" или \"Ультра\") для клиентов мобильного оператора. Мы разделили данные на обучающую, валидационную и тестовую выборки для корректной оценки моделей.\n",
    "\n",
    "Были протестированы три модели: DecisionTreeClassifier, RandomForestClassifier и LogisticRegression. Лучшую точность на валидационной выборке показала модель RandomForestClassifier с 100 деревьями и максимальной глубиной 15, достигнув accuracy 0.7947. Эта модель также продемонстрировала наивысшую точность на тестовой выборке — 0.7963.\n",
    "\n",
    "Дополнительно была выполнена проверка на аддекватность, accuracy которой показало значение ниже чем на валидационной и тестовой, что подтверждает, что RandomForestClassifier способен качественно различать клиентов, которым подходит один из двух тарифов."
   ]
  }
 ],
 "metadata": {
  "ExecuteTimeLog": [
   {
    "duration": 447,
    "start_time": "2024-09-15T07:36:37.290Z"
   },
   {
    "duration": 133,
    "start_time": "2024-09-15T07:36:59.336Z"
   },
   {
    "duration": 21,
    "start_time": "2024-09-15T07:37:03.166Z"
   },
   {
    "duration": 11,
    "start_time": "2024-09-15T07:37:21.770Z"
   },
   {
    "duration": 1029,
    "start_time": "2024-09-15T07:38:06.961Z"
   },
   {
    "duration": 7,
    "start_time": "2024-09-15T07:38:51.686Z"
   },
   {
    "duration": 73,
    "start_time": "2024-09-15T07:39:29.178Z"
   },
   {
    "duration": 6,
    "start_time": "2024-09-15T07:39:32.090Z"
   },
   {
    "duration": 10,
    "start_time": "2024-09-15T07:43:33.844Z"
   },
   {
    "duration": 714,
    "start_time": "2024-09-15T07:46:34.104Z"
   },
   {
    "duration": 10,
    "start_time": "2024-09-15T07:47:09.952Z"
   },
   {
    "duration": 4,
    "start_time": "2024-09-15T07:49:31.018Z"
   },
   {
    "duration": 51,
    "start_time": "2024-09-15T08:03:54.720Z"
   },
   {
    "duration": 10,
    "start_time": "2024-09-15T08:04:16.263Z"
   },
   {
    "duration": 13,
    "start_time": "2024-09-15T08:04:44.515Z"
   },
   {
    "duration": 4,
    "start_time": "2024-09-15T08:04:49.848Z"
   },
   {
    "duration": 9,
    "start_time": "2024-09-15T08:04:50.187Z"
   },
   {
    "duration": 8,
    "start_time": "2024-09-15T08:06:13.975Z"
   },
   {
    "duration": 5,
    "start_time": "2024-09-15T08:06:33.220Z"
   },
   {
    "duration": 5,
    "start_time": "2024-09-15T08:07:59.938Z"
   },
   {
    "duration": 5,
    "start_time": "2024-09-15T08:17:33.875Z"
   },
   {
    "duration": 3,
    "start_time": "2024-09-15T08:17:48.859Z"
   },
   {
    "duration": 3,
    "start_time": "2024-09-15T08:17:59.904Z"
   },
   {
    "duration": 4,
    "start_time": "2024-09-15T08:18:36.025Z"
   },
   {
    "duration": 47,
    "start_time": "2024-09-15T08:28:21.867Z"
   },
   {
    "duration": 22,
    "start_time": "2024-09-15T08:46:21.204Z"
   },
   {
    "duration": 14,
    "start_time": "2024-09-15T08:46:32.776Z"
   },
   {
    "duration": 29,
    "start_time": "2024-09-15T08:46:46.577Z"
   },
   {
    "duration": 42,
    "start_time": "2024-09-15T08:47:07.288Z"
   },
   {
    "duration": 64,
    "start_time": "2024-09-15T08:48:41.689Z"
   },
   {
    "duration": 45,
    "start_time": "2024-09-15T08:53:09.170Z"
   },
   {
    "duration": 4456,
    "start_time": "2024-09-15T08:53:15.221Z"
   },
   {
    "duration": 4519,
    "start_time": "2024-09-15T08:54:34.834Z"
   },
   {
    "duration": 8,
    "start_time": "2024-09-15T08:55:05.512Z"
   },
   {
    "duration": 6,
    "start_time": "2024-09-15T09:07:41.915Z"
   },
   {
    "duration": 63,
    "start_time": "2024-09-15T09:08:17.509Z"
   },
   {
    "duration": 4375,
    "start_time": "2024-09-15T09:08:24.167Z"
   },
   {
    "duration": 8,
    "start_time": "2024-09-15T09:08:31.985Z"
   },
   {
    "duration": 4,
    "start_time": "2024-09-15T09:08:36.846Z"
   },
   {
    "duration": 3,
    "start_time": "2024-09-15T09:09:28.219Z"
   },
   {
    "duration": 204,
    "start_time": "2024-09-15T09:11:13.071Z"
   },
   {
    "duration": 11,
    "start_time": "2024-09-15T09:12:44.253Z"
   },
   {
    "duration": 10,
    "start_time": "2024-09-15T09:13:25.762Z"
   },
   {
    "duration": 3,
    "start_time": "2024-09-15T09:13:58.399Z"
   },
   {
    "duration": 4,
    "start_time": "2024-09-15T09:14:21.519Z"
   },
   {
    "duration": 1112,
    "start_time": "2024-09-15T11:35:39.025Z"
   },
   {
    "duration": 143,
    "start_time": "2024-09-15T11:35:41.840Z"
   },
   {
    "duration": 19,
    "start_time": "2024-09-15T11:35:42.265Z"
   },
   {
    "duration": 11,
    "start_time": "2024-09-15T11:35:43.882Z"
   },
   {
    "duration": 953,
    "start_time": "2024-09-15T11:35:44.661Z"
   },
   {
    "duration": 6,
    "start_time": "2024-09-15T11:35:46.044Z"
   },
   {
    "duration": 5,
    "start_time": "2024-09-15T11:35:46.704Z"
   },
   {
    "duration": 4,
    "start_time": "2024-09-15T11:35:49.416Z"
   },
   {
    "duration": 5,
    "start_time": "2024-09-15T11:35:50.122Z"
   },
   {
    "duration": 4,
    "start_time": "2024-09-15T11:35:50.659Z"
   },
   {
    "duration": 5,
    "start_time": "2024-09-15T11:35:51.285Z"
   },
   {
    "duration": 116,
    "start_time": "2024-09-15T11:39:30.091Z"
   },
   {
    "duration": 3,
    "start_time": "2024-09-15T11:40:17.202Z"
   },
   {
    "duration": 18,
    "start_time": "2024-09-15T11:40:19.921Z"
   },
   {
    "duration": 13,
    "start_time": "2024-09-15T11:40:31.018Z"
   },
   {
    "duration": 65,
    "start_time": "2024-09-15T11:40:35.900Z"
   },
   {
    "duration": 63,
    "start_time": "2024-09-15T11:41:37.315Z"
   },
   {
    "duration": 60,
    "start_time": "2024-09-15T11:45:48.314Z"
   },
   {
    "duration": 64,
    "start_time": "2024-09-15T11:46:11.961Z"
   },
   {
    "duration": 61,
    "start_time": "2024-09-15T11:47:29.754Z"
   },
   {
    "duration": 29,
    "start_time": "2024-09-15T11:48:11.251Z"
   },
   {
    "duration": 64,
    "start_time": "2024-09-15T11:48:16.609Z"
   },
   {
    "duration": 61,
    "start_time": "2024-09-15T11:48:23.326Z"
   },
   {
    "duration": 27,
    "start_time": "2024-09-15T11:50:28.315Z"
   },
   {
    "duration": 28,
    "start_time": "2024-09-15T11:51:25.965Z"
   },
   {
    "duration": 28,
    "start_time": "2024-09-15T11:53:32.263Z"
   },
   {
    "duration": 113,
    "start_time": "2024-09-15T11:55:51.113Z"
   },
   {
    "duration": 103,
    "start_time": "2024-09-15T11:56:54.090Z"
   },
   {
    "duration": 103,
    "start_time": "2024-09-15T11:57:09.740Z"
   },
   {
    "duration": 111,
    "start_time": "2024-09-15T11:57:15.891Z"
   },
   {
    "duration": 1395,
    "start_time": "2024-09-15T11:57:32.410Z"
   },
   {
    "duration": 1408,
    "start_time": "2024-09-15T11:58:14.497Z"
   },
   {
    "duration": 1488,
    "start_time": "2024-09-15T11:58:42.326Z"
   },
   {
    "duration": 54,
    "start_time": "2024-09-15T12:00:40.165Z"
   },
   {
    "duration": 43,
    "start_time": "2024-09-15T12:00:53.452Z"
   },
   {
    "duration": 1417,
    "start_time": "2024-09-15T12:02:56.096Z"
   },
   {
    "duration": 27,
    "start_time": "2024-09-15T12:03:10.965Z"
   },
   {
    "duration": 1547,
    "start_time": "2024-09-15T12:03:43.692Z"
   },
   {
    "duration": 1900,
    "start_time": "2024-09-15T12:04:11.918Z"
   },
   {
    "duration": 43,
    "start_time": "2024-09-15T12:05:36.274Z"
   },
   {
    "duration": 29,
    "start_time": "2024-09-15T12:05:43.967Z"
   },
   {
    "duration": 38,
    "start_time": "2024-09-15T12:06:05.909Z"
   },
   {
    "duration": 1141,
    "start_time": "2024-09-15T12:06:30.240Z"
   },
   {
    "duration": 1206,
    "start_time": "2024-09-15T12:06:42.175Z"
   },
   {
    "duration": 1401,
    "start_time": "2024-09-15T12:07:26.449Z"
   },
   {
    "duration": 25,
    "start_time": "2024-09-15T12:08:46.630Z"
   },
   {
    "duration": 1483,
    "start_time": "2024-09-15T12:10:04.151Z"
   },
   {
    "duration": 31,
    "start_time": "2024-09-15T12:10:40.501Z"
   },
   {
    "duration": 1568,
    "start_time": "2024-09-15T12:11:13.776Z"
   },
   {
    "duration": 35,
    "start_time": "2024-09-15T12:11:32.984Z"
   },
   {
    "duration": 3,
    "start_time": "2024-09-15T12:12:20.553Z"
   },
   {
    "duration": 349,
    "start_time": "2024-09-15T12:13:13.142Z"
   },
   {
    "duration": 25,
    "start_time": "2024-09-15T12:13:20.902Z"
   },
   {
    "duration": 3,
    "start_time": "2024-09-15T12:13:24.741Z"
   },
   {
    "duration": 10,
    "start_time": "2024-09-15T12:13:25.853Z"
   },
   {
    "duration": 3,
    "start_time": "2024-09-15T12:13:31.065Z"
   },
   {
    "duration": 4,
    "start_time": "2024-09-15T12:21:21.567Z"
   },
   {
    "duration": 43,
    "start_time": "2024-09-15T12:21:21.572Z"
   },
   {
    "duration": 16,
    "start_time": "2024-09-15T12:21:21.617Z"
   },
   {
    "duration": 13,
    "start_time": "2024-09-15T12:21:21.635Z"
   },
   {
    "duration": 577,
    "start_time": "2024-09-15T12:21:21.650Z"
   },
   {
    "duration": 6,
    "start_time": "2024-09-15T12:21:22.228Z"
   },
   {
    "duration": 7,
    "start_time": "2024-09-15T12:21:22.235Z"
   },
   {
    "duration": 3,
    "start_time": "2024-09-15T12:21:22.243Z"
   },
   {
    "duration": 5,
    "start_time": "2024-09-15T12:21:22.249Z"
   },
   {
    "duration": 6,
    "start_time": "2024-09-15T12:21:22.255Z"
   },
   {
    "duration": 5,
    "start_time": "2024-09-15T12:21:22.262Z"
   },
   {
    "duration": 58,
    "start_time": "2024-09-15T12:21:22.268Z"
   },
   {
    "duration": 1476,
    "start_time": "2024-09-15T12:21:22.328Z"
   },
   {
    "duration": 33,
    "start_time": "2024-09-15T12:21:23.806Z"
   },
   {
    "duration": 4,
    "start_time": "2024-09-15T12:21:23.840Z"
   },
   {
    "duration": 349,
    "start_time": "2024-09-15T12:21:23.845Z"
   },
   {
    "duration": 23,
    "start_time": "2024-09-15T12:21:24.195Z"
   },
   {
    "duration": 3,
    "start_time": "2024-09-15T12:21:24.225Z"
   },
   {
    "duration": 7,
    "start_time": "2024-09-15T12:21:24.229Z"
   },
   {
    "duration": 60,
    "start_time": "2024-09-15T12:24:39.533Z"
   },
   {
    "duration": 6,
    "start_time": "2024-09-15T12:49:33.893Z"
   },
   {
    "duration": 6,
    "start_time": "2024-09-15T12:49:53.719Z"
   },
   {
    "duration": 6,
    "start_time": "2024-09-15T12:50:00.324Z"
   },
   {
    "duration": 5,
    "start_time": "2024-09-15T12:54:18.555Z"
   },
   {
    "duration": 4,
    "start_time": "2024-09-15T12:54:23.773Z"
   },
   {
    "duration": 7,
    "start_time": "2024-09-15T12:57:13.010Z"
   },
   {
    "duration": 5,
    "start_time": "2024-09-15T12:57:42.758Z"
   },
   {
    "duration": 4,
    "start_time": "2024-09-15T12:57:52.838Z"
   },
   {
    "duration": 23,
    "start_time": "2024-09-15T13:03:04.805Z"
   },
   {
    "duration": 5,
    "start_time": "2024-09-15T13:03:06.893Z"
   },
   {
    "duration": 14,
    "start_time": "2024-09-15T13:03:07.269Z"
   },
   {
    "duration": 4,
    "start_time": "2024-09-15T13:07:10.955Z"
   },
   {
    "duration": 4,
    "start_time": "2024-09-15T13:07:57.692Z"
   },
   {
    "duration": 3,
    "start_time": "2024-09-15T13:08:36.181Z"
   },
   {
    "duration": 5,
    "start_time": "2024-09-15T13:09:49.166Z"
   },
   {
    "duration": 6,
    "start_time": "2024-09-15T13:11:53.085Z"
   },
   {
    "duration": 5,
    "start_time": "2024-09-15T13:11:57.510Z"
   },
   {
    "duration": 64,
    "start_time": "2024-09-15T13:12:07.429Z"
   },
   {
    "duration": 1189,
    "start_time": "2024-09-15T13:12:18.693Z"
   },
   {
    "duration": 36,
    "start_time": "2024-09-15T13:12:19.884Z"
   },
   {
    "duration": 28,
    "start_time": "2024-09-15T13:12:19.921Z"
   },
   {
    "duration": 13,
    "start_time": "2024-09-15T13:12:19.950Z"
   },
   {
    "duration": 922,
    "start_time": "2024-09-15T13:12:19.966Z"
   },
   {
    "duration": 6,
    "start_time": "2024-09-15T13:12:20.889Z"
   },
   {
    "duration": 12,
    "start_time": "2024-09-15T13:12:20.897Z"
   },
   {
    "duration": 15,
    "start_time": "2024-09-15T13:12:20.911Z"
   },
   {
    "duration": 7,
    "start_time": "2024-09-15T13:12:20.928Z"
   },
   {
    "duration": 9,
    "start_time": "2024-09-15T13:12:20.938Z"
   },
   {
    "duration": 4,
    "start_time": "2024-09-15T13:12:20.949Z"
   },
   {
    "duration": 31,
    "start_time": "2024-09-15T13:12:20.955Z"
   },
   {
    "duration": 1760,
    "start_time": "2024-09-15T13:12:20.987Z"
   },
   {
    "duration": 0,
    "start_time": "2024-09-15T13:12:22.749Z"
   },
   {
    "duration": 0,
    "start_time": "2024-09-15T13:12:22.750Z"
   },
   {
    "duration": 0,
    "start_time": "2024-09-15T13:12:22.751Z"
   },
   {
    "duration": 0,
    "start_time": "2024-09-15T13:12:22.752Z"
   },
   {
    "duration": 0,
    "start_time": "2024-09-15T13:12:22.753Z"
   },
   {
    "duration": 0,
    "start_time": "2024-09-15T13:12:22.754Z"
   },
   {
    "duration": 0,
    "start_time": "2024-09-15T13:12:22.755Z"
   },
   {
    "duration": 0,
    "start_time": "2024-09-15T13:12:22.756Z"
   },
   {
    "duration": 0,
    "start_time": "2024-09-15T13:12:22.757Z"
   },
   {
    "duration": 3,
    "start_time": "2024-09-15T13:12:41.566Z"
   },
   {
    "duration": 35,
    "start_time": "2024-09-15T13:12:41.571Z"
   },
   {
    "duration": 14,
    "start_time": "2024-09-15T13:12:41.607Z"
   },
   {
    "duration": 16,
    "start_time": "2024-09-15T13:12:41.622Z"
   },
   {
    "duration": 658,
    "start_time": "2024-09-15T13:12:41.641Z"
   },
   {
    "duration": 7,
    "start_time": "2024-09-15T13:12:42.301Z"
   },
   {
    "duration": 22,
    "start_time": "2024-09-15T13:12:42.310Z"
   },
   {
    "duration": 9,
    "start_time": "2024-09-15T13:12:42.334Z"
   },
   {
    "duration": 6,
    "start_time": "2024-09-15T13:12:42.345Z"
   },
   {
    "duration": 26,
    "start_time": "2024-09-15T13:12:42.353Z"
   },
   {
    "duration": 15,
    "start_time": "2024-09-15T13:12:42.380Z"
   },
   {
    "duration": 48,
    "start_time": "2024-09-15T13:12:42.397Z"
   },
   {
    "duration": 1544,
    "start_time": "2024-09-15T13:12:42.447Z"
   },
   {
    "duration": 32,
    "start_time": "2024-09-15T13:12:43.994Z"
   },
   {
    "duration": 42,
    "start_time": "2024-09-15T13:12:44.028Z"
   },
   {
    "duration": 391,
    "start_time": "2024-09-15T13:12:44.071Z"
   },
   {
    "duration": 24,
    "start_time": "2024-09-15T13:12:44.464Z"
   },
   {
    "duration": 17,
    "start_time": "2024-09-15T13:12:44.489Z"
   },
   {
    "duration": 22,
    "start_time": "2024-09-15T13:12:44.508Z"
   },
   {
    "duration": 37,
    "start_time": "2024-09-15T13:12:44.532Z"
   },
   {
    "duration": 35,
    "start_time": "2024-09-15T13:12:44.571Z"
   },
   {
    "duration": 44,
    "start_time": "2024-09-15T13:12:44.608Z"
   },
   {
    "duration": 4,
    "start_time": "2024-09-15T13:14:46.974Z"
   },
   {
    "duration": 3,
    "start_time": "2024-09-15T13:14:50.994Z"
   },
   {
    "duration": 69,
    "start_time": "2024-09-15T13:14:55.806Z"
   },
   {
    "duration": 4,
    "start_time": "2024-09-15T13:15:01.860Z"
   },
   {
    "duration": 5,
    "start_time": "2024-09-15T13:15:22.295Z"
   },
   {
    "duration": 48,
    "start_time": "2024-09-15T13:16:11.307Z"
   },
   {
    "duration": 1080,
    "start_time": "2024-09-15T13:21:24.943Z"
   },
   {
    "duration": 35,
    "start_time": "2024-09-15T13:21:26.025Z"
   },
   {
    "duration": 20,
    "start_time": "2024-09-15T13:21:26.062Z"
   },
   {
    "duration": 11,
    "start_time": "2024-09-15T13:21:26.085Z"
   },
   {
    "duration": 803,
    "start_time": "2024-09-15T13:21:26.098Z"
   },
   {
    "duration": 5,
    "start_time": "2024-09-15T13:21:26.903Z"
   },
   {
    "duration": 17,
    "start_time": "2024-09-15T13:21:26.909Z"
   },
   {
    "duration": 4,
    "start_time": "2024-09-15T13:21:26.927Z"
   },
   {
    "duration": 6,
    "start_time": "2024-09-15T13:21:26.932Z"
   },
   {
    "duration": 5,
    "start_time": "2024-09-15T13:21:26.940Z"
   },
   {
    "duration": 5,
    "start_time": "2024-09-15T13:21:26.946Z"
   },
   {
    "duration": 42,
    "start_time": "2024-09-15T13:21:26.952Z"
   },
   {
    "duration": 1482,
    "start_time": "2024-09-15T13:21:26.996Z"
   },
   {
    "duration": 24,
    "start_time": "2024-09-15T13:21:28.482Z"
   },
   {
    "duration": 19,
    "start_time": "2024-09-15T13:21:28.507Z"
   },
   {
    "duration": 339,
    "start_time": "2024-09-15T13:21:28.527Z"
   },
   {
    "duration": 31,
    "start_time": "2024-09-15T13:21:28.868Z"
   },
   {
    "duration": 3,
    "start_time": "2024-09-15T13:21:28.901Z"
   },
   {
    "duration": 21,
    "start_time": "2024-09-15T13:21:28.906Z"
   },
   {
    "duration": 8,
    "start_time": "2024-09-15T13:21:28.929Z"
   },
   {
    "duration": 14,
    "start_time": "2024-09-15T13:21:28.939Z"
   },
   {
    "duration": 11,
    "start_time": "2024-09-15T13:21:28.955Z"
   },
   {
    "duration": 48,
    "start_time": "2024-09-16T17:16:32.840Z"
   },
   {
    "duration": 1099,
    "start_time": "2024-09-16T17:16:34.992Z"
   },
   {
    "duration": 144,
    "start_time": "2024-09-16T17:16:38.357Z"
   },
   {
    "duration": 19,
    "start_time": "2024-09-16T17:16:41.646Z"
   },
   {
    "duration": 34,
    "start_time": "2024-09-16T17:16:49.786Z"
   },
   {
    "duration": 13,
    "start_time": "2024-09-16T17:16:52.060Z"
   },
   {
    "duration": 1152,
    "start_time": "2024-09-16T17:22:20.816Z"
   },
   {
    "duration": 34,
    "start_time": "2024-09-16T17:22:21.970Z"
   },
   {
    "duration": 18,
    "start_time": "2024-09-16T17:22:22.006Z"
   },
   {
    "duration": 10,
    "start_time": "2024-09-16T17:22:22.026Z"
   },
   {
    "duration": 995,
    "start_time": "2024-09-16T17:22:22.038Z"
   },
   {
    "duration": 6,
    "start_time": "2024-09-16T17:22:23.035Z"
   },
   {
    "duration": 10,
    "start_time": "2024-09-16T17:22:23.052Z"
   },
   {
    "duration": 4,
    "start_time": "2024-09-16T17:22:23.063Z"
   },
   {
    "duration": 13,
    "start_time": "2024-09-16T17:22:23.068Z"
   },
   {
    "duration": 7,
    "start_time": "2024-09-16T17:22:23.085Z"
   },
   {
    "duration": 5,
    "start_time": "2024-09-16T17:22:23.094Z"
   },
   {
    "duration": 53,
    "start_time": "2024-09-16T17:22:23.100Z"
   },
   {
    "duration": 1590,
    "start_time": "2024-09-16T17:22:23.155Z"
   },
   {
    "duration": 26,
    "start_time": "2024-09-16T17:22:24.747Z"
   },
   {
    "duration": 3,
    "start_time": "2024-09-16T17:22:24.775Z"
   },
   {
    "duration": 452,
    "start_time": "2024-09-16T17:22:24.779Z"
   },
   {
    "duration": 30,
    "start_time": "2024-09-16T17:22:25.232Z"
   },
   {
    "duration": 3,
    "start_time": "2024-09-16T17:22:25.264Z"
   },
   {
    "duration": 6,
    "start_time": "2024-09-16T17:22:25.268Z"
   },
   {
    "duration": 6,
    "start_time": "2024-09-16T17:22:25.275Z"
   },
   {
    "duration": 2,
    "start_time": "2024-09-16T17:22:25.282Z"
   },
   {
    "duration": 5,
    "start_time": "2024-09-16T17:22:25.286Z"
   }
  ],
  "kernelspec": {
   "display_name": "Python 3 (ipykernel)",
   "language": "python",
   "name": "python3"
  },
  "language_info": {
   "codemirror_mode": {
    "name": "ipython",
    "version": 3
   },
   "file_extension": ".py",
   "mimetype": "text/x-python",
   "name": "python",
   "nbconvert_exporter": "python",
   "pygments_lexer": "ipython3",
   "version": "3.9.13"
  },
  "toc": {
   "base_numbering": 1,
   "nav_menu": {},
   "number_sections": true,
   "sideBar": true,
   "skip_h1_title": true,
   "title_cell": "Table of Contents",
   "title_sidebar": "Contents",
   "toc_cell": false,
   "toc_position": {},
   "toc_section_display": true,
   "toc_window_display": false
  }
 },
 "nbformat": 4,
 "nbformat_minor": 2
}
